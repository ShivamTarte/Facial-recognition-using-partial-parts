{
  "nbformat": 4,
  "nbformat_minor": 0,
  "metadata": {
    "colab": {
      "provenance": []
    },
    "kernelspec": {
      "name": "python3",
      "display_name": "Python 3"
    },
    "language_info": {
      "name": "python"
    }
  },
  "cells": [
    {
      "cell_type": "code",
      "source": [
        "!pip install --upgrade imutils"
      ],
      "metadata": {
        "id": "NpKmxWK5wBOs"
      },
      "execution_count": null,
      "outputs": []
    },
    {
      "cell_type": "code",
      "source": [
        "!wget https://pyimagesearch-code-downloads.s3-us-west-2.amazonaws.com/facial-landmarks/facial-landmarks.zip\n",
        "!unzip -qq facial-landmarks.zip\n",
        "%cd facial-landmarks"
      ],
      "metadata": {
        "id": "2UPq35iOwAYQ"
      },
      "execution_count": null,
      "outputs": []
    },
    {
      "cell_type": "code",
      "execution_count": null,
      "metadata": {
        "colab": {
          "base_uri": "https://localhost:8080/"
        },
        "id": "7mbCM8fDG4-s",
        "outputId": "d3d6117e-d53f-4609-d324-6d564b512880"
      },
      "outputs": [
        {
          "output_type": "stream",
          "name": "stdout",
          "text": [
            "Mounted at /content/drive/\n"
          ]
        }
      ],
      "source": [
        "from google.colab import drive\n",
        "drive.mount('/content/drive/')"
      ]
    },
    {
      "cell_type": "code",
      "source": [
        "import os\n",
        "os.chdir(\"/content/drive/My Drive/Colab Notebooks/capstone project\")"
      ],
      "metadata": {
        "id": "iN1WRIeGHf_I"
      },
      "execution_count": null,
      "outputs": []
    },
    {
      "cell_type": "code",
      "source": [
        "from keras.layers import Input, Conv2D, Lambda, merge, Dense, Flatten,MaxPooling2D,Activation, Dropout\n",
        "from keras.models import Model, Sequential\n",
        "from keras.regularizers import l2\n",
        "from keras import backend as K\n",
        "from tensorflow.keras.optimizers import Adam\n",
        "from skimage.io import imshow\n",
        "import matplotlib.pyplot as plt\n",
        "import numpy as np\n",
        "import pandas as pd\n",
        "import random\n",
        "import numpy as np\n",
        "from keras.preprocessing import image\n",
        "import tensorflow as tf"
      ],
      "metadata": {
        "id": "UHKb8wK1IKdR"
      },
      "execution_count": null,
      "outputs": []
    },
    {
      "cell_type": "code",
      "source": [
        "nameDir = [name for name in os.listdir('Mouth_model/proc_images/')]\n",
        "folderlist = []\n",
        "for fname in nameDir:\n",
        "    path='/content/drive/My Drive/Colab Notebooks/capstone project/Mouth_model/proc_images/'+fname+'/'\n",
        "    folderlist.append(path)"
      ],
      "metadata": {
        "id": "7jKjqUV5ITZ-"
      },
      "execution_count": null,
      "outputs": []
    },
    {
      "cell_type": "code",
      "source": [
        "folderlist[2]"
      ],
      "metadata": {
        "colab": {
          "base_uri": "https://localhost:8080/",
          "height": 36
        },
        "id": "ZXxEQhsDJkd5",
        "outputId": "cf26702f-f62c-4082-f738-6eb0dc6892eb"
      },
      "execution_count": null,
      "outputs": [
        {
          "output_type": "execute_result",
          "data": {
            "text/plain": [
              "'/content/drive/My Drive/Colab Notebooks/capstone project/Mouth_model/proc_images/Alia Bhatt/'"
            ],
            "application/vnd.google.colaboratory.intrinsic+json": {
              "type": "string"
            }
          },
          "metadata": {},
          "execution_count": 71
        }
      ]
    },
    {
      "cell_type": "code",
      "source": [
        "left_input_name = []\n",
        "right_input_name = []\n",
        "targets = []"
      ],
      "metadata": {
        "id": "vZkdZDW0Jz4u"
      },
      "execution_count": null,
      "outputs": []
    },
    {
      "cell_type": "code",
      "source": [
        "# for i in range(0, 29):\n",
        "#   fnamei = [folderlist[i] + name for name in os.listdir(folderlist[i])]\n",
        "#   for j in range(1,10):\n",
        "#     for k in range(j):\n",
        "#       left_input_name.append(fnamei[j])\n",
        "#       right_input_name.append(fnamei[k])\n",
        "#       targets.append(1)"
      ],
      "metadata": {
        "id": "Lh3LS0SCJmv4"
      },
      "execution_count": null,
      "outputs": []
    },
    {
      "cell_type": "code",
      "source": [
        "for i in range(0, 27):\n",
        "  fnamei = [folderlist[i] + name for name in os.listdir(folderlist[i])]\n",
        "  tempSet = set([])\n",
        "  while len(tempSet) < 66:\n",
        "    y1 = random.randint(0,len(fnamei)-1)\n",
        "    y2 = random.randint(0,len(fnamei)-1)\n",
        "    if y1 == y2:\n",
        "      continue\n",
        "    myTuple = (y1, y2)\n",
        "    if myTuple in tempSet:\n",
        "      continue\n",
        "    myTuple2 = (y2, y1)\n",
        "    if myTuple2 in tempSet:\n",
        "      continue\n",
        "    tempSet.add(myTuple)\n",
        "    left_input_name.append(fnamei[y1])\n",
        "    right_input_name.append(fnamei[y2])\n",
        "    targets.append(1)"
      ],
      "metadata": {
        "id": "w--XOVLuPyj8"
      },
      "execution_count": null,
      "outputs": []
    },
    {
      "cell_type": "code",
      "source": [
        "len(targets)"
      ],
      "metadata": {
        "colab": {
          "base_uri": "https://localhost:8080/"
        },
        "id": "WjK-A12GKGvL",
        "outputId": "e70e9f7b-1002-4c10-91a4-005771f011b2"
      },
      "execution_count": null,
      "outputs": [
        {
          "output_type": "execute_result",
          "data": {
            "text/plain": [
              "1782"
            ]
          },
          "metadata": {},
          "execution_count": 75
        }
      ]
    },
    {
      "cell_type": "code",
      "source": [
        "mySet = set([])\n",
        "while len(mySet) < 1782:\n",
        "  x1 = random.randint(0,26)\n",
        "  x2 = random.randint(0,26)\n",
        "  if x1 == x2:\n",
        "    continue\n",
        "  fname1 = [folderlist[x1] + name for name in os.listdir(folderlist[x1])]\n",
        "  fname2 = [folderlist[x2] + name for name in os.listdir(folderlist[x2])]\n",
        "  y1 = random.randint(0,len(fname1)-1)\n",
        "  y2 = random.randint(0,len(fname2)-1)\n",
        "  myTuple = (x1,y1,x2,y2)\n",
        "  if myTuple in mySet:\n",
        "    continue\n",
        "  myTuple2 = (x2,y2,x1,y1)\n",
        "  if myTuple2 in mySet:\n",
        "    continue\n",
        "  mySet.add(myTuple)\n",
        "  left_input_name.append(fname1[y1])\n",
        "  right_input_name.append(fname2[y2])\n",
        "  targets.append(0)"
      ],
      "metadata": {
        "id": "ZSgXzsw1KvYe"
      },
      "execution_count": null,
      "outputs": []
    },
    {
      "cell_type": "code",
      "source": [
        "len(mySet)"
      ],
      "metadata": {
        "colab": {
          "base_uri": "https://localhost:8080/"
        },
        "id": "8I9b9B0lLnP4",
        "outputId": "8e7dcca9-db35-425a-8c18-06081bb10153"
      },
      "execution_count": null,
      "outputs": [
        {
          "output_type": "execute_result",
          "data": {
            "text/plain": [
              "1782"
            ]
          },
          "metadata": {},
          "execution_count": 77
        }
      ]
    },
    {
      "cell_type": "code",
      "source": [
        "len(targets)"
      ],
      "metadata": {
        "colab": {
          "base_uri": "https://localhost:8080/"
        },
        "id": "lwEHNiNsNRjW",
        "outputId": "211f814f-00fd-447f-eb0f-c196a2d12df1"
      },
      "execution_count": null,
      "outputs": [
        {
          "output_type": "execute_result",
          "data": {
            "text/plain": [
              "3564"
            ]
          },
          "metadata": {},
          "execution_count": 78
        }
      ]
    },
    {
      "cell_type": "code",
      "source": [
        "targets_array = np.squeeze(np.array(targets))\n",
        "targets_array"
      ],
      "metadata": {
        "colab": {
          "base_uri": "https://localhost:8080/"
        },
        "id": "yMtrV6lUTtM6",
        "outputId": "55becfe1-d8ce-4a40-fa3a-ed21c5478ce9"
      },
      "execution_count": null,
      "outputs": [
        {
          "output_type": "execute_result",
          "data": {
            "text/plain": [
              "array([1, 1, 1, ..., 0, 0, 0])"
            ]
          },
          "metadata": {},
          "execution_count": 79
        }
      ]
    },
    {
      "cell_type": "code",
      "source": [
        "targets_array = targets_array.astype('float64')\n",
        "targets_array"
      ],
      "metadata": {
        "colab": {
          "base_uri": "https://localhost:8080/"
        },
        "id": "hChhkFbzT0H8",
        "outputId": "a2b16040-9ffb-49b1-e9eb-85b04295e8b2"
      },
      "execution_count": null,
      "outputs": [
        {
          "output_type": "execute_result",
          "data": {
            "text/plain": [
              "array([1., 1., 1., ..., 0., 0., 0.])"
            ]
          },
          "metadata": {},
          "execution_count": 80
        }
      ]
    },
    {
      "cell_type": "code",
      "source": [
        "left_input_data = np.array([image.img_to_array(image.load_img(fname, target_size=(32, 80))) for fname in left_input_name])\n",
        "left_input_data = np.squeeze(left_input_data)\n",
        "left_input_data.shape"
      ],
      "metadata": {
        "colab": {
          "base_uri": "https://localhost:8080/"
        },
        "id": "qojeebDET3B1",
        "outputId": "0ee3c77d-0653-4166-9274-a7186b5fab8b"
      },
      "execution_count": null,
      "outputs": [
        {
          "output_type": "execute_result",
          "data": {
            "text/plain": [
              "(3564, 32, 80, 3)"
            ]
          },
          "metadata": {},
          "execution_count": 81
        }
      ]
    },
    {
      "cell_type": "code",
      "source": [
        "right_input_data = np.array([image.img_to_array(image.load_img(fname, target_size=(32, 80))) for fname in right_input_name])\n",
        "right_input_data = np.squeeze(right_input_data)\n",
        "right_input_data.shape"
      ],
      "metadata": {
        "colab": {
          "base_uri": "https://localhost:8080/"
        },
        "id": "yb3Ohc71T8Qu",
        "outputId": "285a7bed-73e7-446e-c26e-2e448c3b3b81"
      },
      "execution_count": null,
      "outputs": [
        {
          "output_type": "execute_result",
          "data": {
            "text/plain": [
              "(3564, 32, 80, 3)"
            ]
          },
          "metadata": {},
          "execution_count": 82
        }
      ]
    },
    {
      "cell_type": "code",
      "source": [
        "BASE_PATH = \"/content/drive/My Drive/Colab Notebooks/capstone project/Mouth_model\""
      ],
      "metadata": {
        "id": "Iml5xeYAVXXO"
      },
      "execution_count": null,
      "outputs": []
    },
    {
      "cell_type": "code",
      "source": [
        "file_name = \"left_input_data\"\n",
        "np.save(os.path.join(BASE_PATH, file_name), left_input_data)"
      ],
      "metadata": {
        "id": "jTC09WkEVxfQ"
      },
      "execution_count": null,
      "outputs": []
    },
    {
      "cell_type": "code",
      "source": [
        "file_name = \"right_input_data\"\n",
        "np.save(os.path.join(BASE_PATH, file_name), right_input_data)"
      ],
      "metadata": {
        "id": "vsIFYb92VzSc"
      },
      "execution_count": null,
      "outputs": []
    },
    {
      "cell_type": "code",
      "source": [
        "file_name = \"targets_array\"\n",
        "np.save(os.path.join(BASE_PATH, file_name), targets_array)"
      ],
      "metadata": {
        "id": "ZZ82FerLV3Wo"
      },
      "execution_count": null,
      "outputs": []
    },
    {
      "cell_type": "code",
      "source": [
        "left_input_data = np.load('/content/drive/My Drive/Colab Notebooks/capstone project/Mouth_model/left_input_data.npy')\n",
        "right_input_data = np.load('/content/drive/My Drive/Colab Notebooks/capstone project/Mouth_model/right_input_data.npy')\n",
        "targets_array = np.load('/content/drive/My Drive/Colab Notebooks/capstone project/Mouth_model/targets_array.npy')"
      ],
      "metadata": {
        "id": "XgRBU_KZV5Wk"
      },
      "execution_count": null,
      "outputs": []
    },
    {
      "cell_type": "code",
      "source": [
        "left_input_data = left_input_data/255\n",
        "right_input_data = right_input_data/255"
      ],
      "metadata": {
        "id": "2zECr217Jbzz"
      },
      "execution_count": null,
      "outputs": []
    },
    {
      "cell_type": "code",
      "source": [
        "import numpy as np\n",
        "import pandas as pd\n",
        "from sklearn.model_selection import train_test_split"
      ],
      "metadata": {
        "id": "tdreOUs-V8Yo"
      },
      "execution_count": null,
      "outputs": []
    },
    {
      "cell_type": "code",
      "source": [
        "lid_train, lid_test, rid_train, rid_test, y_train, y_test = train_test_split(left_input_data, right_input_data, targets_array, test_size=0.10, random_state=42)"
      ],
      "metadata": {
        "id": "SZcyd9TnV-Yu"
      },
      "execution_count": null,
      "outputs": []
    },
    {
      "cell_type": "code",
      "source": [
        "def initialize_weights(shape, dtype=None):\n",
        "    \"\"\"\n",
        "        The paper, http://www.cs.utoronto.ca/~gkoch/files/msc-thesis.pdf\n",
        "        suggests to initialize CNN layer weights with mean as 0.0 and standard deviation of 0.01\n",
        "    \"\"\"\n",
        "    return np.random.normal(loc = 0.0, scale = 1e-2, size = shape)"
      ],
      "metadata": {
        "id": "-ZhTF7MgWA85"
      },
      "execution_count": null,
      "outputs": []
    },
    {
      "cell_type": "code",
      "source": [
        "def initialize_bias(shape, dtype=None):\n",
        "    \"\"\"\n",
        "        The paper, http://www.cs.utoronto.ca/~gkoch/files/msc-thesis.pdf\n",
        "        suggests to initialize CNN layer bias with mean as 0.5 and standard deviation of 0.01\n",
        "    \"\"\"\n",
        "    return np.random.normal(loc = 0.5, scale = 1e-2, size = shape)"
      ],
      "metadata": {
        "id": "Gglca11lWDOK"
      },
      "execution_count": null,
      "outputs": []
    },
    {
      "cell_type": "code",
      "source": [
        "def get_siamese_model(input_shape):\n",
        "    \"\"\"\n",
        "        Model architecture based on the one provided in: http://www.cs.utoronto.ca/~gkoch/files/msc-thesis.pdf\n",
        "    \"\"\"\n",
        "    \n",
        "    # Define the tensors for the two input images\n",
        "    left_input = Input(input_shape)\n",
        "    right_input = Input(input_shape)\n",
        "    \n",
        "    # Convolutional Neural Network\n",
        "    model = tf.keras.models.Sequential([\n",
        "      tf.keras.layers.Conv2D(16, (5, 5), activation='relu', input_shape=input_shape, kernel_initializer=initialize_weights, bias_initializer=initialize_bias, kernel_regularizer=l2(2e-4)),\n",
        "      tf.keras.layers.MaxPooling2D(2, 2),\n",
        "      tf.keras.layers.Conv2D(32, (3, 3), activation='relu',  kernel_initializer=initialize_weights, bias_initializer=initialize_bias, kernel_regularizer=l2(2e-4)),\n",
        "      tf.keras.layers.MaxPooling2D(2, 2),\n",
        "      tf.keras.layers.Conv2D(64, (3, 3), activation='relu',  kernel_initializer=initialize_weights, bias_initializer=initialize_bias, kernel_regularizer=l2(2e-4)),\n",
        "      tf.keras.layers.MaxPooling2D(2, 2),\n",
        "      tf.keras.layers.Flatten(),\n",
        "      tf.keras.layers.Dense(512, activation='sigmoid',kernel_regularizer=l2(1e-3),kernel_initializer=initialize_weights,bias_initializer=initialize_bias)\n",
        "    ])\n",
        "    \n",
        "    # Generate the encodings (feature vectors) for the two images\n",
        "    encoded_l = model(left_input)\n",
        "    encoded_r = model(right_input)\n",
        "    \n",
        "    # Add a customized layer to compute the absolute difference between the encodings\n",
        "    L1_layer = Lambda(lambda tensors:K.abs(tensors[0] - tensors[1]))\n",
        "    L1_distance = L1_layer([encoded_l, encoded_r])\n",
        "    \n",
        "    # Add a dense layer with a sigmoid unit to generate the similarity score\n",
        "    prediction = Dense(1,activation='sigmoid',bias_initializer=initialize_bias)(L1_distance)\n",
        "    \n",
        "    # Connect the inputs with the outputs\n",
        "    siamese_net = Model(inputs=[left_input,right_input],outputs=prediction)\n",
        "    \n",
        "    # return the model\n",
        "    return siamese_net"
      ],
      "metadata": {
        "id": "kNttT1rAWFf_"
      },
      "execution_count": null,
      "outputs": []
    },
    {
      "cell_type": "code",
      "source": [
        "def get_siamese_model(input_shape):\n",
        "    \"\"\"\n",
        "        Model architecture based on the one provided in: http://www.cs.utoronto.ca/~gkoch/files/msc-thesis.pdf\n",
        "    \"\"\"\n",
        "    \n",
        "    # Define the tensors for the two input images\n",
        "    left_input = Input(input_shape)\n",
        "    right_input = Input(input_shape)\n",
        "    \n",
        "    # Convolutional Neural Network\n",
        "    model = tf.keras.models.Sequential([\n",
        "      tf.keras.layers.Conv2D(64, (7, 7), activation='relu', input_shape=input_shape, kernel_initializer=initialize_weights, bias_initializer=initialize_bias, kernel_regularizer=l2(2e-4)),\n",
        "      tf.keras.layers.MaxPooling2D(2, 2),\n",
        "      Dropout(0.2),\n",
        "      tf.keras.layers.Conv2D(128, (5, 5), activation='relu',  kernel_initializer=initialize_weights, bias_initializer=initialize_bias, kernel_regularizer=l2(2e-4)),\n",
        "      tf.keras.layers.MaxPooling2D(2, 2),\n",
        "      Dropout(0.2),\n",
        "      tf.keras.layers.Conv2D(256, (3, 3), activation='relu',  kernel_initializer=initialize_weights, bias_initializer=initialize_bias, kernel_regularizer=l2(2e-4)),\n",
        "      tf.keras.layers.MaxPooling2D(2, 2),\n",
        "      Dropout(0.2),\n",
        "      tf.keras.layers.Flatten(),\n",
        "      tf.keras.layers.Dense(2048, activation='sigmoid',kernel_regularizer=l2(1e-3),kernel_initializer=initialize_weights,bias_initializer=initialize_bias)\n",
        "    ])\n",
        "    \n",
        "    # Generate the encodings (feature vectors) for the two images\n",
        "    encoded_l = model(left_input)\n",
        "    encoded_r = model(right_input)\n",
        "    \n",
        "    # Add a customized layer to compute the absolute difference between the encodings\n",
        "    L1_layer = Lambda(lambda tensors:K.abs(tensors[0] - tensors[1]))\n",
        "    L1_distance = L1_layer([encoded_l, encoded_r])\n",
        "    \n",
        "    # Add a dense layer with a sigmoid unit to generate the similarity score\n",
        "    prediction = Dense(1,activation='sigmoid',bias_initializer=initialize_bias)(L1_distance)\n",
        "    \n",
        "    # Connect the inputs with the outputs\n",
        "    siamese_net = Model(inputs=[left_input,right_input],outputs=prediction)\n",
        "    \n",
        "    # return the model\n",
        "    return siamese_net"
      ],
      "metadata": {
        "id": "ZoEHzDOKomr2"
      },
      "execution_count": null,
      "outputs": []
    },
    {
      "cell_type": "code",
      "source": [
        "model = get_siamese_model((32, 80, 3))\n",
        "model.summary()"
      ],
      "metadata": {
        "colab": {
          "base_uri": "https://localhost:8080/"
        },
        "id": "eOL6ujyuWJzO",
        "outputId": "674d00e7-8078-4d95-cc33-3273f3315df7"
      },
      "execution_count": null,
      "outputs": [
        {
          "output_type": "stream",
          "name": "stdout",
          "text": [
            "Model: \"model\"\n",
            "__________________________________________________________________________________________________\n",
            " Layer (type)                   Output Shape         Param #     Connected to                     \n",
            "==================================================================================================\n",
            " input_1 (InputLayer)           [(None, 32, 80, 3)]  0           []                               \n",
            "                                                                                                  \n",
            " input_2 (InputLayer)           [(None, 32, 80, 3)]  0           []                               \n",
            "                                                                                                  \n",
            " sequential (Sequential)        (None, 2048)         4181632     ['input_1[0][0]',                \n",
            "                                                                  'input_2[0][0]']                \n",
            "                                                                                                  \n",
            " lambda (Lambda)                (None, 2048)         0           ['sequential[0][0]',             \n",
            "                                                                  'sequential[1][0]']             \n",
            "                                                                                                  \n",
            " dense_1 (Dense)                (None, 1)            2049        ['lambda[0][0]']                 \n",
            "                                                                                                  \n",
            "==================================================================================================\n",
            "Total params: 4,183,681\n",
            "Trainable params: 4,183,681\n",
            "Non-trainable params: 0\n",
            "__________________________________________________________________________________________________\n"
          ]
        }
      ]
    },
    {
      "cell_type": "code",
      "source": [
        "optimizer = Adam(lr = 0.00006)\n",
        "model.compile(loss=\"binary_crossentropy\",optimizer=optimizer)"
      ],
      "metadata": {
        "colab": {
          "base_uri": "https://localhost:8080/"
        },
        "id": "sQUkmSAOWQPr",
        "outputId": "b08a0e7c-ac34-4e41-ec5e-b6ad6d42d0f2"
      },
      "execution_count": null,
      "outputs": [
        {
          "output_type": "stream",
          "name": "stderr",
          "text": [
            "/usr/local/lib/python3.7/dist-packages/keras/optimizer_v2/adam.py:105: UserWarning: The `lr` argument is deprecated, use `learning_rate` instead.\n",
            "  super(Adam, self).__init__(name, **kwargs)\n"
          ]
        }
      ]
    },
    {
      "cell_type": "code",
      "source": [
        "history = model.fit([lid_train,rid_train], y_train,\n",
        "          batch_size=16,\n",
        "          validation_split=0.1,\n",
        "          epochs=50,\n",
        "          verbose=1)"
      ],
      "metadata": {
        "colab": {
          "base_uri": "https://localhost:8080/"
        },
        "id": "MYhS6gzeWTth",
        "outputId": "823c5599-d3f6-4f46-cc87-63d9291c7238"
      },
      "execution_count": null,
      "outputs": [
        {
          "output_type": "stream",
          "name": "stdout",
          "text": [
            "Epoch 1/50\n",
            "181/181 [==============================] - 15s 20ms/step - loss: 1.0419 - val_loss: 1.0442\n",
            "Epoch 2/50\n",
            "181/181 [==============================] - 3s 15ms/step - loss: 0.9824 - val_loss: 1.0032\n",
            "Epoch 3/50\n",
            "181/181 [==============================] - 2s 13ms/step - loss: 0.9479 - val_loss: 0.9726\n",
            "Epoch 4/50\n",
            "181/181 [==============================] - 2s 11ms/step - loss: 0.9245 - val_loss: 0.9472\n",
            "Epoch 5/50\n",
            "181/181 [==============================] - 2s 11ms/step - loss: 0.9004 - val_loss: 0.9259\n",
            "Epoch 6/50\n",
            "181/181 [==============================] - 2s 11ms/step - loss: 0.8804 - val_loss: 0.9073\n",
            "Epoch 7/50\n",
            "181/181 [==============================] - 2s 11ms/step - loss: 0.8644 - val_loss: 0.8908\n",
            "Epoch 8/50\n",
            "181/181 [==============================] - 2s 11ms/step - loss: 0.8499 - val_loss: 0.8748\n",
            "Epoch 9/50\n",
            "181/181 [==============================] - 2s 11ms/step - loss: 0.8388 - val_loss: 0.8452\n",
            "Epoch 10/50\n",
            "181/181 [==============================] - 2s 11ms/step - loss: 0.8275 - val_loss: 0.8361\n",
            "Epoch 11/50\n",
            "181/181 [==============================] - 2s 11ms/step - loss: 0.8183 - val_loss: 0.8180\n",
            "Epoch 12/50\n",
            "181/181 [==============================] - 2s 11ms/step - loss: 0.8111 - val_loss: 0.8100\n",
            "Epoch 13/50\n",
            "181/181 [==============================] - 2s 11ms/step - loss: 0.8029 - val_loss: 0.8016\n",
            "Epoch 14/50\n",
            "181/181 [==============================] - 2s 11ms/step - loss: 0.7954 - val_loss: 0.8014\n",
            "Epoch 15/50\n",
            "181/181 [==============================] - 2s 11ms/step - loss: 0.7883 - val_loss: 0.7987\n",
            "Epoch 16/50\n",
            "181/181 [==============================] - 2s 11ms/step - loss: 0.7823 - val_loss: 0.7944\n",
            "Epoch 17/50\n",
            "181/181 [==============================] - 2s 11ms/step - loss: 0.7765 - val_loss: 0.7862\n",
            "Epoch 18/50\n",
            "181/181 [==============================] - 2s 11ms/step - loss: 0.7743 - val_loss: 0.7722\n",
            "Epoch 19/50\n",
            "181/181 [==============================] - 2s 11ms/step - loss: 0.7706 - val_loss: 0.7689\n",
            "Epoch 20/50\n",
            "181/181 [==============================] - 2s 11ms/step - loss: 0.7668 - val_loss: 0.7586\n",
            "Epoch 21/50\n",
            "181/181 [==============================] - 2s 11ms/step - loss: 0.7611 - val_loss: 0.7559\n",
            "Epoch 22/50\n",
            "181/181 [==============================] - 2s 11ms/step - loss: 0.7565 - val_loss: 0.7487\n",
            "Epoch 23/50\n",
            "181/181 [==============================] - 2s 11ms/step - loss: 0.7486 - val_loss: 0.7471\n",
            "Epoch 24/50\n",
            "181/181 [==============================] - 2s 12ms/step - loss: 0.7505 - val_loss: 0.7397\n",
            "Epoch 25/50\n",
            "181/181 [==============================] - 2s 11ms/step - loss: 0.7448 - val_loss: 0.7354\n",
            "Epoch 26/50\n",
            "181/181 [==============================] - 2s 11ms/step - loss: 0.7401 - val_loss: 0.7291\n",
            "Epoch 27/50\n",
            "181/181 [==============================] - 2s 11ms/step - loss: 0.7362 - val_loss: 0.7239\n",
            "Epoch 28/50\n",
            "181/181 [==============================] - 2s 11ms/step - loss: 0.7269 - val_loss: 0.7180\n",
            "Epoch 29/50\n",
            "181/181 [==============================] - 2s 11ms/step - loss: 0.7267 - val_loss: 0.7232\n",
            "Epoch 30/50\n",
            "181/181 [==============================] - 2s 11ms/step - loss: 0.7191 - val_loss: 0.7117\n",
            "Epoch 31/50\n",
            "181/181 [==============================] - 2s 11ms/step - loss: 0.7179 - val_loss: 0.7040\n",
            "Epoch 32/50\n",
            "181/181 [==============================] - 2s 11ms/step - loss: 0.7088 - val_loss: 0.6976\n",
            "Epoch 33/50\n",
            "181/181 [==============================] - 2s 11ms/step - loss: 0.7055 - val_loss: 0.6885\n",
            "Epoch 34/50\n",
            "181/181 [==============================] - 2s 11ms/step - loss: 0.6953 - val_loss: 0.6836\n",
            "Epoch 35/50\n",
            "181/181 [==============================] - 2s 11ms/step - loss: 0.6873 - val_loss: 0.6718\n",
            "Epoch 36/50\n",
            "181/181 [==============================] - 2s 11ms/step - loss: 0.6855 - val_loss: 0.6668\n",
            "Epoch 37/50\n",
            "181/181 [==============================] - 2s 11ms/step - loss: 0.6765 - val_loss: 0.6636\n",
            "Epoch 38/50\n",
            "181/181 [==============================] - 2s 11ms/step - loss: 0.6734 - val_loss: 0.6472\n",
            "Epoch 39/50\n",
            "181/181 [==============================] - 2s 11ms/step - loss: 0.6583 - val_loss: 0.6530\n",
            "Epoch 40/50\n",
            "181/181 [==============================] - 2s 11ms/step - loss: 0.6621 - val_loss: 0.6476\n",
            "Epoch 41/50\n",
            "181/181 [==============================] - 2s 11ms/step - loss: 0.6488 - val_loss: 0.6425\n",
            "Epoch 42/50\n",
            "181/181 [==============================] - 2s 11ms/step - loss: 0.6465 - val_loss: 0.6441\n",
            "Epoch 43/50\n",
            "181/181 [==============================] - 2s 11ms/step - loss: 0.6387 - val_loss: 0.6407\n",
            "Epoch 44/50\n",
            "181/181 [==============================] - 2s 11ms/step - loss: 0.6321 - val_loss: 0.6452\n",
            "Epoch 45/50\n",
            "181/181 [==============================] - 2s 11ms/step - loss: 0.6206 - val_loss: 0.6380\n",
            "Epoch 46/50\n",
            "181/181 [==============================] - 2s 11ms/step - loss: 0.6143 - val_loss: 0.6469\n",
            "Epoch 47/50\n",
            "181/181 [==============================] - 2s 11ms/step - loss: 0.6074 - val_loss: 0.6355\n",
            "Epoch 48/50\n",
            "181/181 [==============================] - 2s 11ms/step - loss: 0.6032 - val_loss: 0.6316\n",
            "Epoch 49/50\n",
            "181/181 [==============================] - 2s 12ms/step - loss: 0.5913 - val_loss: 0.6413\n",
            "Epoch 50/50\n",
            "181/181 [==============================] - 2s 11ms/step - loss: 0.5787 - val_loss: 0.6459\n"
          ]
        }
      ]
    },
    {
      "cell_type": "code",
      "source": [
        "# save model to .h5 file\n",
        "model.save(\"/content/drive/My Drive/Colab Notebooks/capstone project/Mouth_model/siamese_network.h5\")"
      ],
      "metadata": {
        "id": "z3z3_MIjWWnP"
      },
      "execution_count": null,
      "outputs": []
    },
    {
      "cell_type": "code",
      "source": [
        "#Load model back from saved file\n",
        "model = get_siamese_model((32, 80, 3))\n",
        "optimizer = Adam(lr = 0.00006)\n",
        "model.compile(loss=\"binary_crossentropy\",optimizer=optimizer)\n",
        "model.load_weights('/content/drive/My Drive/Colab Notebooks/capstone project/Mouth_model/siamese_network.h5')"
      ],
      "metadata": {
        "colab": {
          "base_uri": "https://localhost:8080/"
        },
        "id": "Hy6P1_bWZXwo",
        "outputId": "ebb4c7c8-3471-4e55-ac6b-f74c23e4e122"
      },
      "execution_count": null,
      "outputs": [
        {
          "output_type": "stream",
          "name": "stderr",
          "text": [
            "/usr/local/lib/python3.7/dist-packages/keras/optimizer_v2/adam.py:105: UserWarning: The `lr` argument is deprecated, use `learning_rate` instead.\n",
            "  super(Adam, self).__init__(name, **kwargs)\n"
          ]
        }
      ]
    },
    {
      "cell_type": "code",
      "source": [
        "prediction = model.predict([lid_test, rid_test])"
      ],
      "metadata": {
        "id": "lJszVvPgYqma"
      },
      "execution_count": null,
      "outputs": []
    },
    {
      "cell_type": "code",
      "source": [
        "prediction = (model.predict([lid_test, rid_test]) > 0.5).astype(\"int32\")"
      ],
      "metadata": {
        "id": "rzqXpFTTYvf_"
      },
      "execution_count": null,
      "outputs": []
    },
    {
      "cell_type": "code",
      "source": [
        "prediction.shape"
      ],
      "metadata": {
        "colab": {
          "base_uri": "https://localhost:8080/"
        },
        "id": "9HE1BvrYYxiR",
        "outputId": "85684413-3dc6-4d0d-b0f4-50acdc913c9b"
      },
      "execution_count": null,
      "outputs": [
        {
          "output_type": "execute_result",
          "data": {
            "text/plain": [
              "(357, 1)"
            ]
          },
          "metadata": {},
          "execution_count": 17
        }
      ]
    },
    {
      "cell_type": "code",
      "source": [
        "y_test.shape"
      ],
      "metadata": {
        "colab": {
          "base_uri": "https://localhost:8080/"
        },
        "id": "h_O3e6NxYyRN",
        "outputId": "1fe80f04-cbcd-40d7-e13d-56e4de32214b"
      },
      "execution_count": null,
      "outputs": [
        {
          "output_type": "execute_result",
          "data": {
            "text/plain": [
              "(357,)"
            ]
          },
          "metadata": {},
          "execution_count": 18
        }
      ]
    },
    {
      "cell_type": "code",
      "source": [
        "from sklearn.metrics import classification_report, confusion_matrix"
      ],
      "metadata": {
        "id": "R6w9Xgy_Y1zo"
      },
      "execution_count": null,
      "outputs": []
    },
    {
      "cell_type": "code",
      "source": [
        "print(classification_report(y_test, prediction))"
      ],
      "metadata": {
        "id": "mVdEXMBAoedB",
        "colab": {
          "base_uri": "https://localhost:8080/"
        },
        "outputId": "0ba31938-86a5-423b-9816-f39a6440f6a1"
      },
      "execution_count": null,
      "outputs": [
        {
          "output_type": "stream",
          "name": "stdout",
          "text": [
            "              precision    recall  f1-score   support\n",
            "\n",
            "         0.0       0.62      0.61      0.61       156\n",
            "         1.0       0.70      0.71      0.70       201\n",
            "\n",
            "    accuracy                           0.66       357\n",
            "   macro avg       0.66      0.66      0.66       357\n",
            "weighted avg       0.66      0.66      0.66       357\n",
            "\n"
          ]
        }
      ]
    },
    {
      "cell_type": "code",
      "source": [
        "path=\"/content/drive/My Drive/Colab Notebooks/Face_rec/bound_photos/Cameron_Diaz/Cameron_Diaz_0004.jpg\"\n",
        "img=image.load_img(path, target_size=(100, 100)) # edit the target_size\n",
        "\n",
        "x1=image.img_to_array(img)\n",
        "x1=np.expand_dims(x1, axis=0)\n",
        "\n",
        "path=\"/content/drive/My Drive/Colab Notebooks/Face_rec/bound_photos/Nicole_Kidman/Nicole_Kidman_0001.jpg\"\n",
        "img=image.load_img(path, target_size=(100, 100)) # edit the target_size\n",
        "\n",
        "x2=image.img_to_array(img)\n",
        "x2=np.expand_dims(x2, axis=0)\n",
        "\n",
        "predTest = (model.predict([x1, x2]) > 0.5).astype(\"int32\")"
      ],
      "metadata": {
        "id": "oMq4dtQ6uw-c"
      },
      "execution_count": null,
      "outputs": []
    },
    {
      "cell_type": "code",
      "source": [],
      "metadata": {
        "id": "9_cbCFE2vY-4"
      },
      "execution_count": null,
      "outputs": []
    }
  ]
}